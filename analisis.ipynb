{
 "cells": [
  {
   "cell_type": "code",
   "execution_count": null,
   "metadata": {},
   "outputs": [],
   "source": [
    "'''\n",
    "    Justificación de la elección de la fuente de datos para la implementacion de un algoritmo de Random Forest para la clasificación de la nacionalidad de un auto:\n",
    "    Se escogió la fuente de datos de autos porque es un tema que me interesa y me gustaría saber si es posible clasificar la nacionalidad de un auto con base en sus características.\n",
    "    Considero que la fuente de datos es bastante completa y tiene una gran cantidad de datos, por lo que es posible obtener un buen resultado.\n",
    "    Considero que la fuente de datos es la indicada para este tipo de modelo ya que cuenta con una variable objetivo categorica, que es la nacionalidad del auto, y con variables predictoras numericas, que son las caracteristicas del auto.\n",
    "    Lo cual ayuda mucho a la hora de implementar el modelo.\n",
    "\n",
    "'''\n",
    "import pandas as pd\n",
    "col_names = ['mpg', 'cylinders', 'cubicinches', 'hp', 'weightlbs', 'time-to-60', 'year', 'brand']\n",
    "df = pd.read_csv(\"cars.csv\", na_values=['',' '], skiprows=1, header=None, names=col_names)\n",
    "\n"
   ]
  },
  {
   "cell_type": "markdown",
   "metadata": {},
   "source": []
  }
 ],
 "metadata": {
  "language_info": {
   "name": "python"
  },
  "orig_nbformat": 4
 },
 "nbformat": 4,
 "nbformat_minor": 2
}
